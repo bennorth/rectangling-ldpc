{
 "cells": [
  {
   "cell_type": "code",
   "execution_count": 1,
   "metadata": {
    "collapsed": true
   },
   "outputs": [],
   "source": [
    "import numpy as np\n",
    "import pandas as pd\n",
    "import matplotlib.pylab as plt\n",
    "import rectangling as R\n",
    "%matplotlib inline"
   ]
  },
  {
   "cell_type": "markdown",
   "metadata": {},
   "source": [
    "# Convergence results"
   ]
  },
  {
   "cell_type": "code",
   "execution_count": 2,
   "metadata": {
    "collapsed": false
   },
   "outputs": [],
   "source": [
    "def single_bit_error_results(chi, scores):\n",
    "    records = []\n",
    "    for i in range(len(chi)):\n",
    "        chi_adj = chi.with_bit_flipped(i).inverted()\n",
    "        if chi_adj.integrated(0).is_legal():\n",
    "            records.append((i, abs(scores[i])))\n",
    "    return pd.DataFrame.from_records(records, columns=['bit_idx', 'cost'])"
   ]
  },
  {
   "cell_type": "code",
   "execution_count": 3,
   "metadata": {
    "collapsed": false
   },
   "outputs": [],
   "source": [
    "def double_bit_error_results(chi, scores):\n",
    "    records = []\n",
    "    for i in range(len(chi)):\n",
    "        for j in range(i + 1, len(chi)):\n",
    "            chi_adj = chi.with_bits_flipped([i, j])\n",
    "            if chi_adj.integrated(0).is_legal():\n",
    "                records.append((i, j, abs(scores[i]) + abs(scores[j])))\n",
    "    return pd.DataFrame.from_records(records, columns=['bit_idx_0', 'bit_idx_1', 'cost'])"
   ]
  },
  {
   "cell_type": "code",
   "execution_count": 4,
   "metadata": {
    "collapsed": false
   },
   "outputs": [],
   "source": [
    "def triple_bit_error_results(chi, scores):\n",
    "    records = []\n",
    "    for i in range(len(chi)):\n",
    "        for j in range(i + 1, len(chi)):\n",
    "            for k in range(j + 1, len(chi)):\n",
    "                chi_adj = chi.with_bits_flipped([i, j, k]).inverted()\n",
    "                if chi_adj.integrated(0).is_legal():\n",
    "                    records.append((i, j, k, abs(scores[i]) + abs(scores[j]) + abs(scores[k])))\n",
    "    return pd.DataFrame.from_records(records, columns=['bit_idx_0', 'bit_idx_1', 'bit_idx_2', 'cost'])"
   ]
  },
  {
   "cell_type": "code",
   "execution_count": 5,
   "metadata": {
    "collapsed": false
   },
   "outputs": [],
   "source": [
    "from itertools import combinations\n",
    "from collections import namedtuple\n",
    "\n",
    "class Proposal(namedtuple('Proposal', 'delta_chi bits_flipped cost is_inverted')):\n",
    "    def __str__(self):\n",
    "        return ('<Proposal @ {:5.2f} : {:>12}{} : {}>'\n",
    "                .format(self.cost,\n",
    "                        str(self.bits_flipped),\n",
    "                        ('~' if self.is_inverted else ' '),\n",
    "                        self.delta_chi))\n",
    "    __repr__ = __str__\n",
    "\n",
    "from operator import itemgetter as nth, attrgetter\n",
    "def wheel_adjustment_proposals(d_chi, scores, M=12):\n",
    "    idxd_scores = list(enumerate(np.abs(scores)))\n",
    "    cost_sorted_bits = sorted(idxd_scores, key=nth(1))\n",
    "    candidate_bit_idxs = [b[0] for b in cost_sorted_bits[:M]]\n",
    "    proposals = []\n",
    "    for n_to_flip in [0, 1, 2, 3]:\n",
    "        for bit_idxs in combinations(candidate_bit_idxs, n_to_flip):\n",
    "            raw_adj_wheel = d_chi.with_bits_flipped(bit_idxs)\n",
    "            is_inverted, adj_wheel = \\\n",
    "                ((False, raw_adj_wheel) if (raw_adj_wheel.xs.sum() % 2 == 0)\n",
    "                 else (True, raw_adj_wheel.inverted()))\n",
    "            if adj_wheel.integrated(0).is_legal():\n",
    "                cost = np.abs(scores[list(bit_idxs)]).sum()\n",
    "                proposals.append(Proposal(adj_wheel, list(bit_idxs), cost, is_inverted))\n",
    "                \n",
    "    return sorted(proposals, key=attrgetter('cost'))"
   ]
  },
  {
   "cell_type": "code",
   "execution_count": 6,
   "metadata": {
    "collapsed": false
   },
   "outputs": [],
   "source": [
    "class JointProposal(namedtuple('JointProposal', 'patterns cost')):\n",
    "    @classmethod\n",
    "    def list_from_individuals(cls, props1, props2):\n",
    "        jps = [cls(R.Patterns(p1.delta_chi, p2.delta_chi), p1.cost + p2.cost)\n",
    "               for p1 in props1 for p2 in props2\n",
    "               if p1.is_inverted == p2.is_inverted]\n",
    "        return sorted(jps, key=attrgetter('cost'))"
   ]
  },
  {
   "cell_type": "code",
   "execution_count": 7,
   "metadata": {
    "collapsed": true
   },
   "outputs": [],
   "source": [
    "def best_proposal(converged_state, M_bits=12, M_indiv=6):\n",
    "    def indiv_props(d_chi, scs):\n",
    "        all_indiv_props = wheel_adjustment_proposals(d_chi, scs, M_bits)\n",
    "        return all_indiv_props[:M_indiv]\n",
    "    props_1 = indiv_props(converged_state.patterns.chi1, converged_state.s1)\n",
    "    props_2 = indiv_props(converged_state.patterns.chi2, converged_state.s2)\n",
    "    joint_props = JointProposal.list_from_individuals(props_1, props_2)\n",
    "    return joint_props[0] if joint_props else None"
   ]
  },
  {
   "cell_type": "code",
   "execution_count": 8,
   "metadata": {
    "collapsed": false
   },
   "outputs": [],
   "source": [
    "def n_bits_correct(guessed_patterns, true_patterns, allow_flipped=False):\n",
    "    total_n_bits = len(true_patterns.chi1) + len(true_patterns.chi2)\n",
    "    n_bits_differing = \\\n",
    "        (np.sum(guessed_patterns.chi1.xs ^ true_patterns.chi1.xs)\n",
    "         + np.sum(guessed_patterns.chi2.xs ^ true_patterns.chi2.xs))\n",
    "    n_bits_correct = total_n_bits - n_bits_differing\n",
    "    if allow_flipped:\n",
    "        return max(n_bits_correct, n_bits_differing)\n",
    "    else:\n",
    "        return n_bits_correct\n",
    "    \n",
    "def recovery_result(alg_state, true_patterns):\n",
    "    \"Return pair of 'n.bits correct' values: raw and ecc\"\n",
    "    if not R.converge(alg_state, 5, 50):\n",
    "        return 0, 0\n",
    "    best = best_proposal(alg_state)\n",
    "    total_n_bits = len(true_patterns.chi1) + len(true_patterns.chi2)\n",
    "    return (n_bits_correct(alg_state.patterns, true_patterns, allow_flipped=True),\n",
    "            (n_bits_correct(best.patterns, true_patterns) if best else 0))"
   ]
  },
  {
   "cell_type": "code",
   "execution_count": 9,
   "metadata": {
    "collapsed": true
   },
   "outputs": [],
   "source": [
    "def recovery_result_sample(tag, engine_ctx, n1=41, n2=31, n_letters=1000):\n",
    "    pat = engine_ctx.make_Patterns(n1, n2)\n",
    "    d_pat = R.Patterns(pat.chi1.deltaed(), pat.chi2.deltaed())\n",
    "    zeta_from_key = 0.7 / 0.3\n",
    "    obs = engine_ctx.make_Observations(d_pat, zeta_from_key, n_letters)\n",
    "    fgs = engine_ctx.make_FactorGraphState(obs)\n",
    "    acs = engine_ctx.make_AccurateConvergenceState(obs)\n",
    "    fgs_rr = recovery_result(fgs, d_pat)\n",
    "    acs_rr = recovery_result(acs, d_pat)\n",
    "    return (tag,) + fgs_rr + acs_rr"
   ]
  },
  {
   "cell_type": "code",
   "execution_count": 10,
   "metadata": {
    "collapsed": false
   },
   "outputs": [
    {
     "data": {
      "text/plain": [
       "(1234, 70, 72, 70, 72)"
      ]
     },
     "execution_count": 10,
     "metadata": {},
     "output_type": "execute_result"
    }
   ],
   "source": [
    "engine_ctx = R.EngineContext(42)\n",
    "\n",
    "# Try one:\n",
    "recovery_result_sample(1234, engine_ctx)"
   ]
  },
  {
   "cell_type": "code",
   "execution_count": 11,
   "metadata": {
    "collapsed": false
   },
   "outputs": [
    {
     "name": "stdout",
     "output_type": "stream",
     "text": [
      "CPU times: user 14h 57min 10s, sys: 1min 33s, total: 14h 58min 44s\n",
      "Wall time: 14h 57min 8s\n"
     ]
    }
   ],
   "source": [
    "%%time\n",
    "\n",
    "n_samples = 1000000\n",
    "results = pd.DataFrame.from_records(\n",
    "    [recovery_result_sample(i, engine_ctx) for i in range(n_samples)],\n",
    "    columns=['expt_id', 'fgs_raw', 'fgs_ecc', 'acs_raw', 'acs_ecc'])"
   ]
  },
  {
   "cell_type": "code",
   "execution_count": 12,
   "metadata": {
    "collapsed": false
   },
   "outputs": [
    {
     "data": {
      "text/html": [
       "<div>\n",
       "<table border=\"1\" class=\"dataframe\">\n",
       "  <thead>\n",
       "    <tr style=\"text-align: right;\">\n",
       "      <th></th>\n",
       "      <th>expt_id</th>\n",
       "      <th>fgs_raw</th>\n",
       "      <th>fgs_ecc</th>\n",
       "      <th>acs_raw</th>\n",
       "      <th>acs_ecc</th>\n",
       "    </tr>\n",
       "  </thead>\n",
       "  <tbody>\n",
       "    <tr>\n",
       "      <th>0</th>\n",
       "      <td>0</td>\n",
       "      <td>72</td>\n",
       "      <td>72</td>\n",
       "      <td>72</td>\n",
       "      <td>72</td>\n",
       "    </tr>\n",
       "    <tr>\n",
       "      <th>1</th>\n",
       "      <td>1</td>\n",
       "      <td>72</td>\n",
       "      <td>72</td>\n",
       "      <td>72</td>\n",
       "      <td>72</td>\n",
       "    </tr>\n",
       "    <tr>\n",
       "      <th>2</th>\n",
       "      <td>2</td>\n",
       "      <td>69</td>\n",
       "      <td>72</td>\n",
       "      <td>69</td>\n",
       "      <td>72</td>\n",
       "    </tr>\n",
       "    <tr>\n",
       "      <th>3</th>\n",
       "      <td>3</td>\n",
       "      <td>72</td>\n",
       "      <td>72</td>\n",
       "      <td>72</td>\n",
       "      <td>72</td>\n",
       "    </tr>\n",
       "    <tr>\n",
       "      <th>4</th>\n",
       "      <td>4</td>\n",
       "      <td>72</td>\n",
       "      <td>72</td>\n",
       "      <td>72</td>\n",
       "      <td>72</td>\n",
       "    </tr>\n",
       "  </tbody>\n",
       "</table>\n",
       "</div>"
      ],
      "text/plain": [
       "   expt_id  fgs_raw  fgs_ecc  acs_raw  acs_ecc\n",
       "0        0       72       72       72       72\n",
       "1        1       72       72       72       72\n",
       "2        2       69       72       69       72\n",
       "3        3       72       72       72       72\n",
       "4        4       72       72       72       72"
      ]
     },
     "execution_count": 12,
     "metadata": {},
     "output_type": "execute_result"
    }
   ],
   "source": [
    "results.head()"
   ]
  },
  {
   "cell_type": "code",
   "execution_count": 13,
   "metadata": {
    "collapsed": false
   },
   "outputs": [
    {
     "data": {
      "text/html": [
       "<div>\n",
       "<table border=\"1\" class=\"dataframe\">\n",
       "  <thead>\n",
       "    <tr style=\"text-align: right;\">\n",
       "      <th>alg</th>\n",
       "      <th>acs_ecc</th>\n",
       "      <th>acs_raw</th>\n",
       "      <th>fgs_ecc</th>\n",
       "      <th>fgs_raw</th>\n",
       "    </tr>\n",
       "    <tr>\n",
       "      <th>n_bits_correct</th>\n",
       "      <th></th>\n",
       "      <th></th>\n",
       "      <th></th>\n",
       "      <th></th>\n",
       "    </tr>\n",
       "  </thead>\n",
       "  <tbody>\n",
       "    <tr>\n",
       "      <th>65</th>\n",
       "      <td>0</td>\n",
       "      <td>1777</td>\n",
       "      <td>0</td>\n",
       "      <td>1526</td>\n",
       "    </tr>\n",
       "    <tr>\n",
       "      <th>66</th>\n",
       "      <td>4116</td>\n",
       "      <td>4566</td>\n",
       "      <td>3913</td>\n",
       "      <td>4256</td>\n",
       "    </tr>\n",
       "    <tr>\n",
       "      <th>67</th>\n",
       "      <td>0</td>\n",
       "      <td>12217</td>\n",
       "      <td>0</td>\n",
       "      <td>12258</td>\n",
       "    </tr>\n",
       "    <tr>\n",
       "      <th>68</th>\n",
       "      <td>27801</td>\n",
       "      <td>32214</td>\n",
       "      <td>28067</td>\n",
       "      <td>33049</td>\n",
       "    </tr>\n",
       "    <tr>\n",
       "      <th>69</th>\n",
       "      <td>0</td>\n",
       "      <td>84115</td>\n",
       "      <td>0</td>\n",
       "      <td>86327</td>\n",
       "    </tr>\n",
       "    <tr>\n",
       "      <th>70</th>\n",
       "      <td>139428</td>\n",
       "      <td>191450</td>\n",
       "      <td>142615</td>\n",
       "      <td>195574</td>\n",
       "    </tr>\n",
       "    <tr>\n",
       "      <th>71</th>\n",
       "      <td>0</td>\n",
       "      <td>335586</td>\n",
       "      <td>0</td>\n",
       "      <td>339987</td>\n",
       "    </tr>\n",
       "    <tr>\n",
       "      <th>72</th>\n",
       "      <td>801465</td>\n",
       "      <td>323820</td>\n",
       "      <td>811512</td>\n",
       "      <td>326035</td>\n",
       "    </tr>\n",
       "  </tbody>\n",
       "</table>\n",
       "</div>"
      ],
      "text/plain": [
       "alg             acs_ecc  acs_raw  fgs_ecc  fgs_raw\n",
       "n_bits_correct                                    \n",
       "65                    0     1777        0     1526\n",
       "66                 4116     4566     3913     4256\n",
       "67                    0    12217        0    12258\n",
       "68                27801    32214    28067    33049\n",
       "69                    0    84115        0    86327\n",
       "70               139428   191450   142615   195574\n",
       "71                    0   335586        0   339987\n",
       "72               801465   323820   811512   326035"
      ]
     },
     "execution_count": 13,
     "metadata": {},
     "output_type": "execute_result"
    }
   ],
   "source": [
    "n_bits_counts = (pd.melt(results, id_vars=['expt_id'], var_name='alg', value_name='n_bits_correct')\n",
    "                 .groupby(['alg', 'n_bits_correct'])\n",
    "                 .size()\n",
    "                 .to_frame(name='freq')\n",
    "                 .reset_index()\n",
    "                 .pivot('n_bits_correct', 'alg', 'freq')\n",
    "                 .reindex(np.arange(73))\n",
    "                 .fillna(0).astype(np.int32))\n",
    "n_bits_counts.tail(8)"
   ]
  },
  {
   "cell_type": "code",
   "execution_count": 14,
   "metadata": {
    "collapsed": false
   },
   "outputs": [
    {
     "data": {
      "text/html": [
       "<div>\n",
       "<table border=\"1\" class=\"dataframe\">\n",
       "  <thead>\n",
       "    <tr style=\"text-align: right;\">\n",
       "      <th>alg</th>\n",
       "      <th>acs_ecc</th>\n",
       "      <th>acs_raw</th>\n",
       "      <th>fgs_ecc</th>\n",
       "      <th>fgs_raw</th>\n",
       "    </tr>\n",
       "    <tr>\n",
       "      <th>n_bits_correct</th>\n",
       "      <th></th>\n",
       "      <th></th>\n",
       "      <th></th>\n",
       "      <th></th>\n",
       "    </tr>\n",
       "  </thead>\n",
       "  <tbody>\n",
       "    <tr>\n",
       "      <th>68</th>\n",
       "      <td>968694</td>\n",
       "      <td>967185</td>\n",
       "      <td>982194</td>\n",
       "      <td>980972</td>\n",
       "    </tr>\n",
       "    <tr>\n",
       "      <th>69</th>\n",
       "      <td>940893</td>\n",
       "      <td>934971</td>\n",
       "      <td>954127</td>\n",
       "      <td>947923</td>\n",
       "    </tr>\n",
       "    <tr>\n",
       "      <th>70</th>\n",
       "      <td>940893</td>\n",
       "      <td>850856</td>\n",
       "      <td>954127</td>\n",
       "      <td>861596</td>\n",
       "    </tr>\n",
       "    <tr>\n",
       "      <th>71</th>\n",
       "      <td>801465</td>\n",
       "      <td>659406</td>\n",
       "      <td>811512</td>\n",
       "      <td>666022</td>\n",
       "    </tr>\n",
       "    <tr>\n",
       "      <th>72</th>\n",
       "      <td>801465</td>\n",
       "      <td>323820</td>\n",
       "      <td>811512</td>\n",
       "      <td>326035</td>\n",
       "    </tr>\n",
       "  </tbody>\n",
       "</table>\n",
       "</div>"
      ],
      "text/plain": [
       "alg             acs_ecc  acs_raw  fgs_ecc  fgs_raw\n",
       "n_bits_correct                                    \n",
       "68               968694   967185   982194   980972\n",
       "69               940893   934971   954127   947923\n",
       "70               940893   850856   954127   861596\n",
       "71               801465   659406   811512   666022\n",
       "72               801465   323820   811512   326035"
      ]
     },
     "execution_count": 14,
     "metadata": {},
     "output_type": "execute_result"
    }
   ],
   "source": [
    "at_least_n_counts = n_bits_counts.iloc[::-1].cumsum(axis=0).iloc[::-1]\n",
    "at_least_n_counts.tail()"
   ]
  },
  {
   "cell_type": "code",
   "execution_count": 15,
   "metadata": {
    "collapsed": true
   },
   "outputs": [],
   "source": [
    "import pickle\n",
    "with open('results-20160908.2.pkl', 'wb') as f_out:\n",
    "    pickle.dump(at_least_n_counts, f_out)"
   ]
  },
  {
   "cell_type": "code",
   "execution_count": 17,
   "metadata": {
    "collapsed": false
   },
   "outputs": [
    {
     "data": {
      "image/png": "[encoded data removed]",
      "text/plain": [
       "<matplotlib.figure.Figure at 0x7ffb1c1afa90>"
      ]
     },
     "metadata": {},
     "output_type": "display_data"
    }
   ],
   "source": [
    "plt.style.use('ggplot')  # Next line doesn't work without this one first....\n",
    "plt.style.use('seaborn-poster')\n",
    "plt.figure(figsize=(16.0, 6.0))\n",
    "\n",
    "full_name = {'acs': 'Accurate Convergence',\n",
    "             'fgs': 'Belief Propagation'}\n",
    "\n",
    "def plot_1(aln, alg, stride=1, y0=0.3, y1=1.025):\n",
    "    plt.plot(aln.index.values[::stride], aln[::stride], '.-', lw=2.0, ms=12.0, label=full_name[alg])\n",
    "    plt.gca().set_xlim(63.75, 72.25)\n",
    "    plt.gca().set_ylim(y0, y1)\n",
    "    plt.gca().set_xlabel('N = number of bits correct')\n",
    "    plt.gca().set_ylabel('proportion of cases achieving \\u2265N bits correct',\n",
    "                         rotation=0, ha='left', va='bottom', y=1.05)\n",
    "\n",
    "for alg in ['fgs', 'acs']:\n",
    "    raw_name = '{}_raw'.format(alg)\n",
    "    plt.subplot(1, 2, 1)\n",
    "    aln = at_least_n_counts[raw_name]\n",
    "    aln = aln / float(aln.loc[0])\n",
    "    plot_1(aln, alg)\n",
    "    \n",
    "    ecc_name = '{}_ecc'.format(alg)\n",
    "    plt.subplot(1, 2, 2)\n",
    "    aln = at_least_n_counts[ecc_name]\n",
    "    aln = aln / float(aln.loc[0])\n",
    "    plot_1(aln, alg, 2, 0.75, 1.0)\n",
    "\n",
    "for plt_idx, lbl in [(1, 'before legality enforcement'),\n",
    "                     (2, 'after legality enforcement\\n(note vertical scale change)')]:\n",
    "    plt.subplot(1, 2, plt_idx)\n",
    "    plt.legend(loc=(0.0625, 0.125))\n",
    "    plt.text(0.0625, 0.45, lbl,\n",
    "             fontsize=16.0, ha='left', va='bottom', transform=plt.gca().transAxes);\n",
    "\n",
    "plt.gcf().subplots_adjust(bottom=0.16, left=0.05, right=0.98)\n",
    "plt.savefig('fig-20160908-2.png', dpi=50)"
   ]
  }
 ],
 "metadata": {
  "kernelspec": {
   "display_name": "Python 3",
   "language": "python",
   "name": "python3"
  },
  "language_info": {
   "codemirror_mode": {
    "name": "ipython",
    "version": 3
   },
   "file_extension": ".py",
   "mimetype": "text/x-python",
   "name": "python",
   "nbconvert_exporter": "python",
   "pygments_lexer": "ipython3",
   "version": "3.5.2"
  }
 },
 "nbformat": 4,
 "nbformat_minor": 0
}
